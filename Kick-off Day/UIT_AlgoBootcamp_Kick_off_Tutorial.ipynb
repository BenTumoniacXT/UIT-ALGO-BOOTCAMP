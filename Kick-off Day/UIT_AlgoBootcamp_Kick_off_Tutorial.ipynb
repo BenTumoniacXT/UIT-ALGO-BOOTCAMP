{
  "nbformat": 4,
  "nbformat_minor": 0,
  "metadata": {
    "colab": {
      "name": "UIT_AlgoBootcamp_Kick-off_Tutorial.ipynb",
      "provenance": [],
      "collapsed_sections": [
        "LE0spQQ3vAoG",
        "_SOi6ItDzK6H",
        "W7ZoXQaB1-hc",
        "c09HsNCb5Igw"
      ],
      "toc_visible": true
    },
    "kernelspec": {
      "name": "python3",
      "display_name": "Python 3"
    },
    "language_info": {
      "name": "python"
    }
  },
  "cells": [
    {
      "cell_type": "markdown",
      "metadata": {
        "id": "LE0spQQ3vAoG"
      },
      "source": [
        "# **Hidden words**"
      ]
    },
    {
      "cell_type": "markdown",
      "metadata": {
        "id": "xA0eE_whvlw1"
      },
      "source": [
        "**Tóm tắt đề:**\n",
        "\n",
        "Cho một ma trận bảng chữ cái kích thước mxn và 1 danh sách gồm q từ. Với mỗi q từ này hãy kiểm tra xem nó có xuất hiện trong bảng chữ cái đó không theo 2 chiều từ trên xuống và từ trái sang phải."
      ]
    },
    {
      "cell_type": "markdown",
      "metadata": {
        "id": "8F0mKFQAxNxv"
      },
      "source": [
        "**Ý tưởng:** \n",
        "\n",
        "Ở đây ta sẽ sử dụng phương pháp vét cạn cải tiến. Ta sẽ lưu lại với độ dài từ 1 đến 10 thì bảng có thể biểu diễn được những từ nào. Sắp xếp các tập từ cùng độ dài lại. Với mỗi từ cần kiểm tra trong danh sách, Sử dụng tìm kiếm nhị phân từ này trên tập đã sắp xếp có độ dài tương ứng với từ cần tìm kiếm. \n",
        "\n",
        "Độ phức tạp thuật toán là $O(10*nn*m*log(n*m)) + O(Q*log(n*m))$."
      ]
    },
    {
      "cell_type": "markdown",
      "metadata": {
        "id": "I-dUXH0pzD6B"
      },
      "source": [
        "**Mã giải:**"
      ]
    },
    {
      "cell_type": "code",
      "metadata": {
        "id": "aoeqcCj5u583"
      },
      "source": [
        "dat = []\n",
        "\n",
        "def bin_scan(s):\n",
        "    ss = int(len(s))\n",
        "    lf = 0\n",
        "    rg = int(len(dat)) - 1\n",
        "\n",
        "    while lf <= rg:\n",
        "        md = int((lf + rg) / 2)\n",
        "        if dat[md][0:ss] == s: return True\n",
        "\n",
        "        if dat[md][0:ss] < s: lf = md + 1\n",
        "        else: rg = md - 1\n",
        "\n",
        "    return False\n",
        "\n",
        "n, m, q = map(int, input().split())\n",
        "a = []\n",
        "for i in range (n): \n",
        "    xs = str(input())\n",
        "    a.append(xs) \n",
        "\n",
        "for i in range (n):\n",
        "    for j in range (m):\n",
        "        tmp = a[i][j:j + 10]\n",
        "        while int(len(tmp)) < 10: tmp = tmp + \"*\"\n",
        "        dat.append(tmp)\n",
        "\n",
        "for j in range (m):\n",
        "    for i in range (n):\n",
        "        tmp = \"\"\n",
        "        for t in range (10):\n",
        "            if i + t < n: tmp = tmp + a[i + t][j]\n",
        "            else: tmp = tmp + \"*\"\n",
        "\n",
        "            dat.append(tmp)\n",
        "\n",
        "dat.sort()\n",
        "\n",
        "for i in range (q):\n",
        "    s = str(input())\n",
        "    if bin_scan(s): print(\"1\", end = \"\")\n",
        "    else: print(\"0\", end = \"\")"
      ],
      "execution_count": null,
      "outputs": []
    },
    {
      "cell_type": "markdown",
      "metadata": {
        "id": "_SOi6ItDzK6H"
      },
      "source": [
        "# **True expression**"
      ]
    },
    {
      "cell_type": "markdown",
      "metadata": {
        "id": "0AeG35TvzU2B"
      },
      "source": [
        "**Tóm tắt đề:**\n",
        "\n",
        "Cho một dãy gồm N số từ 1 đến N và một số nguyên dương S. Yêu cầu thêm dấu \"+\" hoặc \"-\" trước mỗi số để biểu thức tạo bởi dãy số trên sau khi thêm dấu có giá trị là S. "
      ]
    },
    {
      "cell_type": "markdown",
      "metadata": {
        "id": "x7KqkTa3zsdq"
      },
      "source": [
        "**Ý tưởng:**\n",
        "\n",
        "Ở đây thay vì em cố tìm dấu cho từng số, em sẽ chuyển sang một bài toán con khác đó là tìm các số mà tổng của chúng khi trừ vào tổng các số từ $1$ đến $n$ sẽ cho ra kết quả là $s$. Dễ thấy nếu như tổng các số từ $1$ đến $n$ (ở đây gọi là $z$) bé hơn s hay nếu như không có cách nào tìm ra dãy con có tổng là $(s - z) / 2$ thì coi như bài toán không thể giải quyết được.\n",
        "\n",
        "Độ phức tạp thuật toán là $O(n*(s - z)/2)$."
      ]
    },
    {
      "cell_type": "markdown",
      "metadata": {
        "id": "PybdYWJI1imZ"
      },
      "source": [
        "**Mã giải:**"
      ]
    },
    {
      "cell_type": "code",
      "metadata": {
        "id": "6-GAA5ZT1khK"
      },
      "source": [
        "fail = \"NO_SOLUTION\"\n",
        "n, m = map(int, input().split())\n",
        "\n",
        "z = 0\n",
        "for i in range (1, n + 1): z += i\n",
        "\n",
        "if z < m or (z - m) % 2 != 0:\n",
        "    print(fail)\n",
        "else:\n",
        "    z2 = int((z - m) / 2)\n",
        "    mat = [0 for i in range (z2 + 1)]\n",
        "    mat[0] = 1\n",
        "    directory = [0 for i in range (z2 + 1)]\n",
        "\n",
        "    for i in range (1, n + 1):\n",
        "        for t in range (z2, i - 1, -1):\n",
        "            if mat[t] == 0 and mat[t - i] == 1:\n",
        "                mat[t] = 1\n",
        "                directory[t] = t - i\n",
        "\n",
        "    if not mat[z2]: print(fail)\n",
        "    else:\n",
        "        fn = [False for i in range (n + 1)]\n",
        "        z3 = z2\n",
        "        while z3 != 0:\n",
        "            fn[z3 - directory[z3]] = True\n",
        "            z3 = directory[z3]\n",
        "        \n",
        "        for i in range (1, n + 1):\n",
        "            if fn[i] == True: print(\"-\", end = \"\")\n",
        "            else: print(\"+\", end = \"\")"
      ],
      "execution_count": null,
      "outputs": []
    },
    {
      "cell_type": "markdown",
      "metadata": {
        "id": "W7ZoXQaB1-hc"
      },
      "source": [
        "# **Top k hits**"
      ]
    },
    {
      "cell_type": "markdown",
      "metadata": {
        "id": "Yln7_Z_g2K3O"
      },
      "source": [
        "**Tóm tắt đề:**\n",
        "\n",
        "Cho một mảng gồm n thành phần và q truy vấn, có 2 loại truy vấn:\n",
        "- 1: Tăng thêm v điểm cho các thành phần từ l đến r.\n",
        "- 2: Liệt kê ra k thành phần có điểm cao nhất bằng chỉ số của nó.\n",
        "\n",
        "Hãy thực hiện các truy vấn trên."
      ]
    },
    {
      "cell_type": "markdown",
      "metadata": {
        "id": "voiQLvtL3grx"
      },
      "source": [
        "**Ý tưởng:**\n",
        "\n",
        "Ở đây ta sẽ sử dụng Segment Tree với kỹ thuật Lazy Propagation. Trong Segment Tree này sẽ lưu bảng xếp hạng 10 thành phần có số điểm cao nhất trong nhánh đó và điểm các thành phần. Khi đó cứ mỗi lần cập nhật ta sẽ sắp xếp lại bảng xếp hạng và cập nhật điểm cho các node.\n",
        "\n",
        "Độ phức tạp thuật toán là: $O(q*log(n)*k)$."
      ]
    },
    {
      "cell_type": "markdown",
      "metadata": {
        "id": "l9deqD4t48f-"
      },
      "source": [
        "**Mã giải (Lưu ý là hiện mã này đang còn một số lỗi vặt):**"
      ]
    },
    {
      "cell_type": "code",
      "metadata": {
        "id": "s_x2FKlA5DzP"
      },
      "source": [
        "n, q = map(int, input().split())\n",
        "le = 5e4 + 1\n",
        "lz = [0 for i in range (int(le * 4))]\n",
        "info = [[] for i in range (int(le * 4))]\n",
        "\n",
        "def merge(a, b):\n",
        "    ans = a + b\n",
        "    ans.sort(reverse = True)\n",
        "    while len(ans) > 5: ans.pop()\n",
        "\n",
        "    return ans\n",
        "\n",
        "def add(a, v):\n",
        "    ans = []\n",
        "    for i in a: ans.append((i[0] + v, i[1]))\n",
        "    \n",
        "    return ans\n",
        "\n",
        "def initialize(i, lf, rg):\n",
        "    lz[i] = 0\n",
        "    if lf == rg:\n",
        "        info[i] = []\n",
        "        info[i].append((0, lf))\n",
        "        return\n",
        "\n",
        "    md = int((lf + rg) / 2)\n",
        "    initialize(int(i * 2), lf, md)\n",
        "    initialize(int(i * 2 + 1), md + 1, rg)\n",
        "    info[i] = merge(info[int(i * 2)], info[int(i * 2 + 1)])\n",
        "\n",
        "def lazy(i):\n",
        "    lz[int(i * 2)] += lz[i]\n",
        "    lz[int(i * 2 + 1)] += lz[i]\n",
        "    info[int(i * 2)] = add(info[int(i * 2)], lz[i])\n",
        "    info[int(i * 2 + 1)] = add(info[int(i * 2 + 1)], lz[i])\n",
        "    lz[i] = 0\n",
        "\n",
        "def update(i, lf, rg, u, v, dlt):\n",
        "    if rg < u or lf > v: return\n",
        "    if u <= lf and rg <= v:\n",
        "        lz[i] += dlt\n",
        "        info[i] = add(info[i], dlt) \n",
        "        return\n",
        "\n",
        "    md = int((lf + rg) / 2)\n",
        "    if lz[i] != 0: lazy(i)\n",
        "    update(int(i * 2), lf, md, u, v, dlt)\n",
        "    update(int(i * 2 + 1), md + 1, rg, u, v, dlt)\n",
        "    info[i] = merge(info[int(i * 2)],info[int(i * 2 + 1)])\n",
        "\n",
        "initialize(int(1), int(1), n)\n",
        "for i in range (q):\n",
        "    cmd = list(map(int, input().split()))\n",
        "    if cmd[0] == 1: update(1, 1, n, cmd[1], cmd[2], cmd[3])\n",
        "    else: \n",
        "        for i in range (cmd[1]):\n",
        "            print(info[1][i][1], end = \" \")\n",
        "\n",
        "        print()"
      ],
      "execution_count": null,
      "outputs": []
    },
    {
      "cell_type": "markdown",
      "metadata": {
        "id": "c09HsNCb5Igw"
      },
      "source": [
        "# **Splitting Carrots**"
      ]
    },
    {
      "cell_type": "markdown",
      "metadata": {
        "id": "z_CEhC9B5PsV"
      },
      "source": [
        "**Tóm tắt đề:**\n",
        "\n",
        "Cho một dãy số gồm n số, nhiệm vụ của mình là hãy in ra chỉ số của các phần tử bị bỏ đi để sao cho dãy không thế được chia ra thành 2 tổng bằng nhau."
      ]
    },
    {
      "cell_type": "markdown",
      "metadata": {
        "id": "nVt3qrYJ5xHa"
      },
      "source": [
        "**Ý tưởng:**\n",
        "\n",
        "Gọi tổng mảng là s, ở đây ta sẽ có 3 trường hợp:\n",
        "- Trường hợp 1: s không chia hết cho 2. Rõ ràng ngay từ đầu mảng này không thể chia thành 2 tổng bằng nhau => Mình không cần phải lấy gì cả.\n",
        "- Trường hợp 2: s chia hết cho 2 và n là số lẻ. Như vậy ta chỉ cần ngẫu nhiên loại bỏ đi một thành phần là mảng sẽ không thể chia ra 2 phần bằng nhau.\n",
        "- Trường hợp 3: s chia hết cho 2 và n là số chẵn. Ở trường hợp này trước hết ta quy hoạch động để kiểm tra xem liệu mảng có chia ra được 2 thành phần bằng nhau không. Nếu không được thì tương tự như trường hợp 1, ta không cần làm gì cả. Nếu như chia được, lúc này ta lặp lại cách thực hiện với phần mảng đã chia 2 ra, cứ thực hiện cho đến khi nào tìm ra được phần mảng không chia được, khi đó 1 trong các phần tử lẻ trong mảng con đó sẽ là kết quả."
      ]
    },
    {
      "cell_type": "markdown",
      "metadata": {
        "id": "XXiguceB8F4B"
      },
      "source": [
        "**Mã giải:**"
      ]
    },
    {
      "cell_type": "code",
      "metadata": {
        "id": "I42Wtdti6jvi"
      },
      "source": [
        "n = int(input())\n",
        "a = list(map(int, input().split()))\n",
        "ept = []\n",
        "\n",
        "def calc():\n",
        "    t = int(0)\n",
        "    for i in range (n): t += a[i]\n",
        "    if t % 2 == 1: return ept\n",
        "\n",
        "    while True:\n",
        "        detect = int(0)\n",
        "        for i in range (n): detect += (1 if a[i] % 2 == 0 else 0)\n",
        "\n",
        "        if detect != n: break\n",
        "\n",
        "        for i in range (n): a[i] /= 2\n",
        "\n",
        "        t /= 2\n",
        "\n",
        "    dp = [False for i in range (int(t + 1))]\n",
        "    dp[0] = True\n",
        "    for i in range (n):\n",
        "        for j in range (int(t - a[i]), -1, -1):\n",
        "            if dp[j] == True: dp[int(j + a[i])] = True\n",
        "\n",
        "    if t % 2 != 0 or not dp[int(t / 2)]: return ept\n",
        "    \n",
        "    for i in range (n):\n",
        "        if a[i] % 2 != 0:\n",
        "            xz = [i + 1]\n",
        "            return xz\n",
        "\n",
        "    return ept\n",
        "\n",
        "core = calc()\n",
        "print(len(core))\n",
        "for i in core: print(i, end = \" \")"
      ],
      "execution_count": null,
      "outputs": []
    },
    {
      "cell_type": "markdown",
      "metadata": {
        "id": "PX9-ZDZd8XH0"
      },
      "source": [
        "# **Minesweeper**"
      ]
    },
    {
      "cell_type": "markdown",
      "metadata": {
        "id": "Fa_B1WlN8d0e"
      },
      "source": [
        "**Tóm tắt đề:**\n",
        "\n",
        "Cho một ma trận $m$x$n$ với a[i][j] là số lượng bom xung quanh chính ô đó. Hãy in ra một ma trận với thông tin là những ô nào là những ô có bom ở trên đó."
      ]
    },
    {
      "cell_type": "markdown",
      "metadata": {
        "id": "EvgS1xK98-0j"
      },
      "source": [
        "**Ý tưởng: (Under Construction)**"
      ]
    },
    {
      "cell_type": "markdown",
      "metadata": {
        "id": "219UFDlo9ERQ"
      },
      "source": [
        "**Mã giải: (Under Construction)**"
      ]
    },
    {
      "cell_type": "code",
      "metadata": {
        "id": "VKmNP81p9Kyy"
      },
      "source": [
        ""
      ],
      "execution_count": null,
      "outputs": []
    }
  ]
}