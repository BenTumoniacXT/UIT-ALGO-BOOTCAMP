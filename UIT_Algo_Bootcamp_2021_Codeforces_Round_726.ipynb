{
  "nbformat": 4,
  "nbformat_minor": 0,
  "metadata": {
    "colab": {
      "name": "UIT Algo Bootcamp 2021 - Codeforces Round 726.ipynb",
      "provenance": [],
      "collapsed_sections": [],
      "authorship_tag": "ABX9TyO7UtV+fW5WoOIUnu9TrC9j",
      "include_colab_link": true
    },
    "kernelspec": {
      "name": "python3",
      "display_name": "Python 3"
    },
    "language_info": {
      "name": "python"
    }
  },
  "cells": [
    {
      "cell_type": "markdown",
      "metadata": {
        "id": "view-in-github",
        "colab_type": "text"
      },
      "source": [
        "<a href=\"https://colab.research.google.com/github/BenTumoniacXT/UIT-ALGO-BOOTCAMP/blob/main/UIT_Algo_Bootcamp_2021_Codeforces_Round_726.ipynb\" target=\"_parent\"><img src=\"https://colab.research.google.com/assets/colab-badge.svg\" alt=\"Open In Colab\"/></a>"
      ]
    },
    {
      "cell_type": "markdown",
      "metadata": {
        "id": "dYULs5o8T2sa"
      },
      "source": [
        "# **A - Arithmetic Array**"
      ]
    },
    {
      "cell_type": "markdown",
      "metadata": {
        "id": "OaGcVnUiUNm0"
      },
      "source": [
        "**Tóm tắt đề:**\n",
        "\n",
        "Cho 1 dãy số gồm n số. Hãy kiểm tra xem cần chèn bao nhiêu số không âm để trung bình cộng của dãy bằng 1 (hay tổng của dãy bằng n).\n",
        "\n",
        "**Ý tưởng:**\n",
        "\n",
        "Gọi t là tổng các số trong dãy đã cho. Trong bài tập này sẽ có 3 trường hợp:\n",
        "- Trường hợp 1 là t = n, lúc này kết quả không còn gì để nói nữa vì ta không cần phải chèn thêm số nào.\n",
        "- Trường hợp 2 là t < n, lúc này việc của mình chỉ cần chèn thêm một số đủ lớn để làm cho bài toán đạt yêu cầu => Ta chỉ cần chèn 1 số.\n",
        "- Trường hợp cuối cùng là t > n, ở trường hợp này ta chèn số lượng số 0 vừa đủ nhằm tăng n lên sao cho n = t => Ta sẽ chèn t - n số 0.\n",
        "\n",
        "**Độ phức tạp thuật toán: $O(t)$**\n",
        "\n",
        "**Mã giải:**"
      ]
    },
    {
      "cell_type": "code",
      "metadata": {
        "id": "8y7RMAsEVi5S"
      },
      "source": [
        "def proc():\n",
        "    #Input elements for each testcases\n",
        "    n = int(input())\n",
        "    a = list(map(int, input().split()))\n",
        "\n",
        "    #Generate sum of given array\n",
        "    t = 0\n",
        "    for i in a: t += i\n",
        "\n",
        "    #Final solve\n",
        "    if t == n: print(\"0\")\n",
        "    elif t < n: print(\"1\")\n",
        "    else: print(t - n)\n",
        "\n",
        "#First input\n",
        "t = int(input())\n",
        "for z in range(t): proc()"
      ],
      "execution_count": null,
      "outputs": []
    },
    {
      "cell_type": "markdown",
      "metadata": {
        "id": "lcQlMaRXV1Hj"
      },
      "source": [
        "# **B - Bad Boy**"
      ]
    },
    {
      "cell_type": "markdown",
      "metadata": {
        "id": "qqm2vzMiV552"
      },
      "source": [
        "**Tóm tắt đề:**\n",
        "\n",
        "Cho 1 bảng kích thước $m$x$n$ và 1 người đứng ở vị trí $(i, j)$, hãy chọn ra 2 vị trí sao cho thời gian đi từ vị trí xuất phát đến 1 trong 2 ô rồi đến ô còn lại và về lại vị trí ban đầu là dài nhất. (Có thể có nhiều kết quả)\n",
        "\n",
        "**Ý tưởng:**\n",
        "\n",
        "Ở đây ta có thể thấy, sau khi phân tích bài toán, ta có thể thấy rằng vị trí lý tưởng nhất để bài toán đạt được hiệu quả cao là nằm ở các góc cuối bảng. Vậy nên tư tưởng thuật toán ở đây là mình đầu tiên sẽ chọn một góc sao cho thời gian người ấy đi từ vị trí xuất phát đến đó là dài nhất, sau đó từ vị trí được chọn đó là vị trí thứ nhất, ta tìm vị trí thứ hai là 3 ô góc còn lại sao cho tổng khoảng cách từ vị trí thứ nhất đến vị trí thứ hai\n",
        "và từ vị trí thứ hai về lại vị trí ban đầu là dài nhất.\n",
        "\n",
        "**Độ phức tạp thuật toán: $O(t)$**\n",
        "\n",
        "**Mã giải:**"
      ]
    },
    {
      "cell_type": "code",
      "metadata": {
        "id": "ZcwZ33VdYXZ1"
      },
      "source": [
        "def direct_range(px, p):\n",
        "    return int(abs(px[0] - p[0])) + int(abs(px[1] - p[1])) - 1\n",
        "\n",
        "def proc():\n",
        "    inp = []\n",
        "    inp = tuple(map(int, input().split()))\n",
        "    \n",
        "    sz = (inp[0], inp[1])\n",
        "    pp = (inp[2], inp[3])\n",
        "    b1 = (1, 1)\n",
        "    b2 = (1, 1)\n",
        "\n",
        "    if direct_range(b1, pp) < direct_range((sz[0], 1), pp): b1 = (sz[0], 1)\n",
        "    if direct_range(b1, pp) < direct_range((sz[0], sz[1]), pp): b1 = (sz[0], sz[1])\n",
        "    if direct_range(b1, pp) < direct_range((1, sz[1]), pp): b1 = (1, sz[1])\n",
        "    \n",
        "    if direct_range(b1, b2) + direct_range(b2, pp) < direct_range(b1, (sz[0], 1)) + direct_range((sz[0], 1), pp): b2 = (sz[0], 1)\n",
        "    if direct_range(b1, b2) + direct_range(b2, pp) < direct_range(b1, (sz[0], sz[1])) + direct_range((sz[0], sz[1]), pp): b2 = (sz[0], sz[1])\n",
        "    if direct_range(b1, b2) + direct_range(b2, pp) < direct_range(b1, (1, sz[1])) + direct_range((1, sz[1]), pp): b2 = (1, sz[1])\n",
        "\n",
        "    print(b1[0], b1[1], b2[0], b2[1])\n",
        "\n",
        "t = int(input())\n",
        "for z in range(t): proc()"
      ],
      "execution_count": null,
      "outputs": []
    }
  ]
}