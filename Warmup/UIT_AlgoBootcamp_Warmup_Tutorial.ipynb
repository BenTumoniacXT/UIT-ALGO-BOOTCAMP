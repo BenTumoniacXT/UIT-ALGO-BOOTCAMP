{
  "nbformat": 4,
  "nbformat_minor": 0,
  "metadata": {
    "colab": {
      "name": "UIT AlgoBootcamp  Warmup - Tutorial.ipynb",
      "provenance": [],
      "collapsed_sections": [
        "hfywPqInRG8X",
        "bfp4CWmTYuQM"
      ],
      "toc_visible": true
    },
    "kernelspec": {
      "name": "python392jvsc74a57bd0ac59ebe37160ed0dfa835113d9b8498d9f09ceb179beaac4002f036b9467c963",
      "display_name": "Python 3.9.2 64-bit"
    },
    "language_info": {
      "name": "python",
      "version": "3.9.2"
    },
    "metadata": {
      "interpreter": {
        "hash": "ac59ebe37160ed0dfa835113d9b8498d9f09ceb179beaac4002f036b9467c963"
      }
    }
  },
  "cells": [
    {
      "cell_type": "markdown",
      "metadata": {
        "id": "hfywPqInRG8X"
      },
      "source": [
        "# **VW04p_Checkout**\n",
        "\n",
        "\n"
      ]
    },
    {
      "cell_type": "markdown",
      "metadata": {
        "id": "3E1O82WCYk6C"
      },
      "source": [
        "**Tóm tắt:**\n",
        "\n",
        "Cho $d$ là độ dài quãng đường từ A đến B, $a_1$ là gia tốc kể từ khi xuất phát tại A, $a_2$ là gia tốc tại thời điểm kết thúc tại B, $v_{max}$ là tốc độ tối đa cho phép, $t_{min}$ là thời gian tối thiểu để duy trì vận tốc. Tìm khoảng thời gian đi từ A tới B là nhỏ nhất với những dữ kiện đã cho trên."
      ]
    },
    {
      "cell_type": "markdown",
      "metadata": {
        "id": "omaRyq4hYmvg"
      },
      "source": [
        "**Ý tưởng:**\n",
        "\n",
        "Sử dụng phương thức tham lam, ta sẽ cho $v$ cao nhất có thể và đồng thời đáp ứng đủ thời gian chạy ổn định $t_(min)$ để từ đó ta tìm ra được thời gian nhỏ nhất. Tuy nhiên, lưu ý tốc độ tối đa $v_{max}$ trong bài đã đề ra. Nếu vượt quá con số này, ta sẽ áp đặt tốc độ hiện tại sẽ là $v_{max}$ để từ đó tìm ra thời gian cuối cùng."
      ]
    },
    {
      "cell_type": "markdown",
      "metadata": {
        "id": "p6ReL1MGYpCr"
      },
      "source": [
        "**Mã giải**"
      ]
    },
    {
      "cell_type": "code",
      "metadata": {
        "colab": {
          "base_uri": "https://localhost:8080/"
        },
        "id": "b7c7fLw7060W",
        "outputId": "b814fd40-3ac2-4761-d3b9-be15b9e10dab"
      },
      "source": [
        "import math\n",
        "d, a1, a2, v, t = map(float, input().split()) #Original input\n",
        "\n",
        "#Manual Input\n",
        "\"\"\"d = float(20.5)\n",
        "a1 = float(0.5)\n",
        "a2 = float(0.6)\n",
        "v = float(3)\n",
        "t = float(7.5)\"\"\"\n",
        "\n",
        "rs = float(0)\n",
        "a = float(1) / (a1 * 2) + float(1) / (a2 * 2)\n",
        "v2 = (-t + math.sqrt(t * t + 4 * a * d)) / (a * 2)\n",
        "\n",
        "if v2 <= v: rs = v2 / a1 + v2 / a2 + t\n",
        "else: rs = d / v + v / (2 * a1) + v / (2 * a2)\n",
        "\n",
        "rs += 5e-14\n",
        "\n",
        "print(round(rs, 12))"
      ],
      "execution_count": 3,
      "outputs": [
        {
          "output_type": "stream",
          "name": "stdout",
          "text": [
            "14.373007108234\n"
          ]
        }
      ]
    },
    {
      "cell_type": "markdown",
      "metadata": {
        "id": "bfp4CWmTYuQM"
      },
      "source": [
        "# **VW05p_Enrichement**"
      ]
    },
    {
      "cell_type": "markdown",
      "metadata": {
        "id": "XyF_wwJ4Y72W"
      },
      "source": [
        "**Tóm tắt:**\n",
        "\n",
        "Cho ma trận $M$x$N$, tìm ma trận $3$x$3$ có tổng các số trong đó nhỏ nhất."
      ]
    },
    {
      "cell_type": "markdown",
      "metadata": {
        "id": "W8ocARuHZWlS"
      },
      "source": [
        "**Ý tưởng:**\n",
        "\n",
        "Ta sử dụng mảng cộng dồn, cộng dồn mảng 3x3 lại với nhau, từ đó tìm ra kết quả cuối cùng."
      ]
    },
    {
      "cell_type": "markdown",
      "metadata": {
        "id": "_WbVtpkhZmWk"
      },
      "source": [
        "**Mã giải:**"
      ]
    },
    {
      "cell_type": "code",
      "metadata": {
        "colab": {
          "base_uri": "https://localhost:8080/"
        },
        "id": "r8Q5pQnDZooc",
        "outputId": "c902e854-b44f-469c-894b-e86cc3035659"
      },
      "source": [
        "n, m = map(int, input().split())\n",
        "mat = []\n",
        "for i in range(n):\n",
        "    x = list(map(int, input().split()))\n",
        "    mat.append(x)\n",
        "\n",
        "m2 = [[0 for i in range(m - 2)] for j in range(n)]\n",
        "for i in range(0, n):\n",
        "    m2[i][0] = mat[i][0] + mat[i][1] + mat[i][2]\n",
        "    for j in range(1, m - 2):\n",
        "        m2[i][j] = m2[i][j - 1] - mat[i][j - 1] + mat[i][j + 2]\n",
        "\n",
        "mn = int(2e9)\n",
        "for i in range(0, n - 2):\n",
        "    for j in range(0, m - 2):\n",
        "        mn = min(m2[i][j] + m2[i + 1][j] + m2[i + 2][j], mn)\n",
        "\n",
        "print(mn)"
      ],
      "execution_count": null,
      "outputs": [
        {
          "output_type": "stream",
          "text": [
            "5 7\n",
            "10 2 3 7 10 4 8\n",
            "3 2 1 9 6 2 1\n",
            "0 3 6 7 8 9 10\n",
            "5 4 3 0 2 1 8\n",
            "9 2 3 10 6 4 8\n",
            "27\n"
          ],
          "name": "stdout"
        }
      ]
    },
    {
      "cell_type": "markdown",
      "metadata": {
        "id": "h-yAnMaGZpo_"
      },
      "source": [
        "# **VW07p_Vitamin**"
      ]
    },
    {
      "cell_type": "markdown",
      "metadata": {
        "id": "lgKdOEU9Zyr4"
      },
      "source": [
        "**Tóm tắt:**\n",
        "\n",
        "Cho một cái máy sản xuất ra $a[i]$ vitamin theo i giờ, dữ kiện của máy có n giờ (Các giờ sau đó sẽ sản xuất $a[n]$ Vitamin). Một người yêu cầu đúng m Vitamin, không hơn không thiếu. Nếu tắt máy bật lại sẽ bị tính thêm 1 tiếng. Hãy tìm số giờ ít nhất để sản xuất đúng m Vitamin hoặc trả lời -1 nếu không có giải pháp."
      ]
    },
    {
      "cell_type": "markdown",
      "metadata": {
        "id": "aoPc1M8UZ1CE"
      },
      "source": [
        "**Ý tưởng:**\n",
        "\n",
        "Ở bài này ta sử dụng quy hoạch động, xử lý trong 2 lần. Lần thứ nhất là khi ta cho nó chạy bình thường và lần thứ 2 là khi cho nó chạy quá giờ.\n",
        "\n",
        "Gọi b là dãy chứa m + 1 (0 - m) số với b[i] là số giờ ít nhất để đưa từ m Vitamin xuống còn i Vitamin cần phải sản xuẩt. Nếu b[0] không hợp lệ, bài toán coi như thất bại. Ta khởi tạo mảng này cho các giá trị bằng số rất to (ở đây em để là 1e7), riêng b[m] = 00.\n",
        "\n",
        "Đầu tiên ta tạo một mảng cộng dồn từ dãy a (Dãy chứa các Vitamin được tạo ra theo số giờ hoạt động của máy), đồng thời lưu last = a[n] - a[n - 1] (sẽ giải thích ở gần cuối bài). Sau đó ta xét từ n đến 1 (gọi đây là i), đồng thời trong lúc đó xét từ m đến 0 (gọi đây là j) kiểm tra xem đã có cách đưa về j  vitamin chưa và j - a[i - 1] không được bé hơn 0. Nếu có thì kiểm tra xem tại b[j - a[i]] vitamin đó đã là số giờ nhỏ nhất chưa, nếu kết quả vừa tính là số giờ từ j vitamin cộng thêm i giờ và cộng thêm 1 nhỏ hơn nó (do tính đây coi như là đã tắt máy sau i giờ chạy) thì thay thế kết quả đó.\n",
        "\n",
        "Tiếp theo, ta sẽ thử tối ưu xem liệu nếu cho chạy quá giờ thì nó sẽ sản xuất đủ vitamin không, và nếu có liệu nó có nhanh hơn cách trước đó không. Nếu như j vitamin (j từ m đến 0) này sau khi cho chạy hết n giờ, số lượng vitamin yêu cầu còn lại chia hết cho last như đã nói trên thì ta kiểm tra xem liệu thời gian đó có thay thế được với cách trước không.\n",
        "\n",
        "Cuối cùng output sẽ là b[0] nếu hợp lệ, nếu không thì -1."
      ]
    },
    {
      "cell_type": "markdown",
      "metadata": {
        "id": "D2B59my4Z9Ui"
      },
      "source": [
        "**Mã giải:**"
      ]
    },
    {
      "cell_type": "code",
      "metadata": {
        "id": "aeQgpW32Z_7t"
      },
      "source": [
        "n, m = map(int, input().split())\n",
        "a = list(map(int, input().split()))\n",
        "\n",
        "ax = []\n",
        "ax.append(a[0])\n",
        "for i in range(1, n):\n",
        "    ax.append(ax[i - 1] + a[i])\n",
        "\n",
        "vtm = [int(1e7) for i in range(m)]\n",
        "vtm.append(0)\n",
        "for i in range(n, 0, -1):\n",
        "    for j in range(m, -1, -1):\n",
        "        if vtm[j] == int(1e7) or j - ax[i - 1] < 0: continue\n",
        "        vtm[j - ax[i - 1]] = min(vtm[j - ax[i - 1]], vtm[j] + i + 1)\n",
        "\n",
        "overtime = ax[n - 1] - ax[n - 2]\n",
        "for i in range(m, -1, -1):\n",
        "    if vtm[i] == int(1e7): continue\n",
        "    if j - ax[n - 1] >= 0 and (j - ax[n - 1]) % overtime == 0:\n",
        "        vtm[0] = min(vtm[0], vtm[j] + n + 1 + (j - ax[n - 1]) / overtime)\n",
        "\n",
        "if vtm[0] == int(1e7): print(\"-1\")\n",
        "else: print(vtm[0] - 1)"
      ],
      "execution_count": 2,
      "outputs": [
        {
          "output_type": "error",
          "ename": "ValueError",
          "evalue": "not enough values to unpack (expected 2, got 0)",
          "traceback": [
            "\u001b[1;31m---------------------------------------------------------------------------\u001b[0m",
            "\u001b[1;31mValueError\u001b[0m                                Traceback (most recent call last)",
            "\u001b[1;32m<ipython-input-2-a02715265a9e>\u001b[0m in \u001b[0;36m<module>\u001b[1;34m\u001b[0m\n\u001b[1;32m----> 1\u001b[1;33m \u001b[0mn\u001b[0m\u001b[1;33m,\u001b[0m \u001b[0mm\u001b[0m \u001b[1;33m=\u001b[0m \u001b[0mmap\u001b[0m\u001b[1;33m(\u001b[0m\u001b[0mint\u001b[0m\u001b[1;33m,\u001b[0m \u001b[0minput\u001b[0m\u001b[1;33m(\u001b[0m\u001b[1;33m)\u001b[0m\u001b[1;33m.\u001b[0m\u001b[0msplit\u001b[0m\u001b[1;33m(\u001b[0m\u001b[1;33m)\u001b[0m\u001b[1;33m)\u001b[0m\u001b[1;33m\u001b[0m\u001b[1;33m\u001b[0m\u001b[0m\n\u001b[0m\u001b[0;32m      2\u001b[0m \u001b[0ma\u001b[0m \u001b[1;33m=\u001b[0m \u001b[0mlist\u001b[0m\u001b[1;33m(\u001b[0m\u001b[0mmap\u001b[0m\u001b[1;33m(\u001b[0m\u001b[0mint\u001b[0m\u001b[1;33m,\u001b[0m \u001b[0minput\u001b[0m\u001b[1;33m(\u001b[0m\u001b[1;33m)\u001b[0m\u001b[1;33m.\u001b[0m\u001b[0msplit\u001b[0m\u001b[1;33m(\u001b[0m\u001b[1;33m)\u001b[0m\u001b[1;33m)\u001b[0m\u001b[1;33m)\u001b[0m\u001b[1;33m\u001b[0m\u001b[1;33m\u001b[0m\u001b[0m\n\u001b[0;32m      3\u001b[0m \u001b[1;33m\u001b[0m\u001b[0m\n\u001b[0;32m      4\u001b[0m \u001b[0max\u001b[0m \u001b[1;33m=\u001b[0m \u001b[1;33m[\u001b[0m\u001b[1;33m]\u001b[0m\u001b[1;33m\u001b[0m\u001b[1;33m\u001b[0m\u001b[0m\n\u001b[0;32m      5\u001b[0m \u001b[0max\u001b[0m\u001b[1;33m.\u001b[0m\u001b[0mappend\u001b[0m\u001b[1;33m(\u001b[0m\u001b[0ma\u001b[0m\u001b[1;33m[\u001b[0m\u001b[1;36m0\u001b[0m\u001b[1;33m]\u001b[0m\u001b[1;33m)\u001b[0m\u001b[1;33m\u001b[0m\u001b[1;33m\u001b[0m\u001b[0m\n",
            "\u001b[1;31mValueError\u001b[0m: not enough values to unpack (expected 2, got 0)"
          ]
        }
      ]
    },
    {
      "cell_type": "code",
      "execution_count": null,
      "metadata": {},
      "outputs": [],
      "source": []
    }
  ]
}